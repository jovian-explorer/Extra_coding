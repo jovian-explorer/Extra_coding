{
 "cells": [
  {
   "cell_type": "code",
   "execution_count": null,
   "metadata": {},
   "outputs": [],
   "source": [
    "from astropy import units as u\n",
    "from astropy import time\n",
    "\n",
    "import numpy as np\n",
    "\n",
    "from poliastro import iod\n",
    "from poliastro.bodies import Earth, Mars, Sun\n",
    "from poliastro.ephem import Ephem\n",
    "from poliastro.maneuver import Maneuver\n",
    "from poliastro.twobody import Orbit\n",
    "from poliastro.util import time_range\n",
    "# More info: https://plotly.com/python/renderers/\n",
    "import plotly.io as pio\n",
    "\n",
    "pio.renderers.default = \"plotly_mimetype+notebook_connected\"\n",
    "from astropy.coordinates import solar_system_ephemeris\n",
    "\n",
    "solar_system_ephemeris.set(\"jpl\")\n",
    "# Initial data\n",
    "date_launch = time.Time(\"2011-11-26 15:02\", scale=\"utc\").tdb\n",
    "date_arrival = time.Time(\"2012-08-06 05:17\", scale=\"utc\").tdb\n",
    "earth = Ephem.from_body(Earth, time_range(date_launch, end=date_arrival))\n",
    "mars = Ephem.from_body(Mars, time_range(date_launch, end=date_arrival))\n",
    "# Solve for departure and target orbits\n",
    "ss_earth = Orbit.from_ephem(Sun, earth, date_launch)\n",
    "ss_mars = Orbit.from_ephem(Sun, mars, date_arrival)\n",
    "# Solve for the transfer maneuver\n",
    "man_lambert = Maneuver.lambert(ss_earth, ss_mars)\n",
    "\n",
    "# Get the transfer and final orbits\n",
    "ss_trans, ss_target = ss_earth.apply_maneuver(man_lambert, intermediate=True)\n",
    "from poliastro.plotting import OrbitPlotter3D\n",
    "plotter = OrbitPlotter3D()\n",
    "plotter.set_attractor(Sun)\n",
    "\n",
    "plotter.plot_ephem(earth, date_launch, label=\"Earth at launch position\")\n",
    "plotter.plot_ephem(mars, date_arrival, label=\"Mars at arrival position\")\n",
    "plotter.plot_trajectory(\n",
    "    ss_trans.sample(max_anomaly=180 * u.deg),\n",
    "    color=\"black\",\n",
    "    label=\"Transfer orbit\",\n",
    ")\n",
    "plotter.set_view(30 * u.deg, 260 * u.deg, distance=3 * u.km)"
   ]
  }
 ],
 "metadata": {
  "language_info": {
   "name": "python"
  },
  "orig_nbformat": 4
 },
 "nbformat": 4,
 "nbformat_minor": 2
}
