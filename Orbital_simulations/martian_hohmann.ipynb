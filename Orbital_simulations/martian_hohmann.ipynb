{
 "cells": [
  {
   "cell_type": "code",
   "execution_count": 6,
   "metadata": {},
   "outputs": [],
   "source": [
    "import numpy as np\n",
    "import matplotlib as mpl\n",
    "mpl.use('pdf')\n",
    "import matplotlib.pyplot as plt\n",
    "from matplotlib import animation\n"
   ]
  },
  {
   "cell_type": "code",
   "execution_count": 7,
   "metadata": {},
   "outputs": [],
   "source": [
    "#Plotting the Earth and Mars orbits\n",
    "alpha = 44 #degrees (Angle by which should be ahead by)\n",
    "Earth = plt.Circle((0,0), radius= 1.0,fill=False,color='blue')\n",
    "Mars = plt.Circle((0,0), radius= 1.52,fill=False,color='brown')\n"
   ]
  },
  {
   "cell_type": "code",
   "execution_count": 8,
   "metadata": {},
   "outputs": [],
   "source": [
    "#Moving Earth, Mars, and Spacecraft\n",
    "patch_E = plt.Circle((0.0, 0.0),radius=0.04,fill=True,color='blue')\n",
    "patch_M = plt.Circle((0.0, 0.0),radius=0.03,fill=True,color='brown')\n",
    "patch_H = plt.Circle((0.0, 0.0),radius=0.01,fill=True,color='red')\n"
   ]
  },
  {
   "cell_type": "code",
   "execution_count": 10,
   "metadata": {},
   "outputs": [],
   "source": [
    "def init():\n",
    " patch_E.center = (0.0,0.0)\n",
    " ax.add_patch(patch_E)\n",
    " patch_M.center = (0.0,0.0)\n",
    " ax.add_patch(patch_M)\n",
    " patch_H.center = (0.0,0.0)\n",
    " ax.add_patch(patch_H)\n",
    " return patch_E,patch_M,patch_H\n",
    "def animate(i):\n",
    " #Earth\n",
    " x_E, y_E = patch_E.center\n",
    " x_E = np.cos((2*np.pi/365.2)*i)\n",
    " y_E = np.sin((2*np.pi/365.2)*i)\n",
    " patch_E.center = (x_E, y_E)\n",
    "#Mars\n",
    " x_M, y_M = patch_M.center\n",
    " x_M = 1.52*np.cos((2*np.pi/686.98)*i+(np.pi*alpha/180.))\n",
    " y_M = 1.52*np.sin((2*np.pi/686.98)*i+(np.pi*alpha/180.))\n",
    " patch_M.center = (x_M,y_M)\n",
    "#Hohmann\n",
    " Period = 516.0\n",
    " x_H = 1.26*(1. - 0.21**2)/(1. + 0.21*np.cos((2*np.pi/Period)*i))*np.cos((2*np.pi/Period)*i)\n",
    " y_H = 1.26*(1. - 0.21**2)/(1. + 0.21*np.cos((2*np.pi/Period)*i))*np.sin((2*np.pi/Period)*i)\n",
    " patch_H.center = (x_H,y_H)\n",
    " return patch_E,patch_M,patch_H"
   ]
  },
  {
   "cell_type": "code",
   "execution_count": 12,
   "metadata": {},
   "outputs": [],
   "source": [
    "# Set up formatting for the movie files\n",
    "#plt.rcParams['savefig.bbox'] = 'tight' # tight garbles the video!!!\n",
    "Writer = animation.writers['ffmpeg']\n",
    "writer = Writer(fps=60, metadata=dict(artist='Me'), bitrate=1800)\n",
    "plt.rc('font', family='serif', serif='Times')\n",
    "plt.rc('text', usetex=True)\n",
    "plt.rc('xtick', labelsize=8)\n",
    "plt.rc('ytick', labelsize=8)\n",
    "plt.rc('axes', labelsize=8)\n",
    "# Set up path, to guide eye\n",
    "Period = 516.\n",
    "x_H_B = 1.26*(1. - 0.21**2)/(1. + 0.21*np.cos((2*np.pi/Period*75)))*np.cos((2*np.pi/Period*75))\n",
    "y_H_B = 1.26*(1. - 0.21**2)/(1. + 0.21*np.cos((2*np.pi/Period*75)))*np.sin((2*np.pi/Period*75))\n",
    "x_H_C = 1.26*(1. - 0.21**2)/(1. + 0.21*np.cos((2*np.pi/Period*150)))*np.cos((2*np.pi/Period*150))\n",
    "y_H_C = 1.26*(1. - 0.21**2)/(1. + 0.21*np.cos((2*np.pi/Period*150)))*np.sin((2*np.pi/Period*150))\n",
    "x_H_D = 1.26*(1. - 0.21**2)/(1. + 0.21*np.cos((2*np.pi/Period*200)))*np.cos((2*np.pi/Period*200))\n",
    "y_H_D = 1.26*(1. - 0.21**2)/(1. + 0.21*np.cos((2*np.pi/Period*200)))*np.sin((2*np.pi/Period*200))\n",
    "x_H_M = 1.26*(1. - 0.21**2)/(1. + 0.21*np.cos((2*np.pi/Period*250)))*np.cos((2*np.pi/Period*250))\n",
    "y_H_M = 1.26*(1. - 0.21**2)/(1. + 0.21*np.cos((2*np.pi/Period*250)))*np.sin((2*np.pi/Period*250))"
   ]
  },
  {
   "cell_type": "code",
   "execution_count": 13,
   "metadata": {},
   "outputs": [
    {
     "name": "stderr",
     "output_type": "stream",
     "text": [
      "/tmp/ipykernel_35198/682333686.py:20: UserWarning: Matplotlib is currently using pdf, which is a non-GUI backend, so cannot show the figure.\n",
      "  plt.show()\n"
     ]
    }
   ],
   "source": [
    "fig, ax = plt.subplots(figsize=(10,8))\n",
    "#fig.subplots_adjust(left=.15, bottom=.16, right=.99, top=.97)\n",
    "ax.plot(0,0,color='orange',marker='o',linestyle='',markersize=16,markerfacecolor='yellow',label='Sun')\n",
    "ax.plot([],[],color='blue',linestyle='',marker='o',label='Earth')\n",
    "ax.plot([],[],color='brown',linestyle='',marker='o',label='Mars')\n",
    "ax.plot([],[],color='red',linestyle='',marker='o',label='spacecraft')\n",
    "ax.plot(x_H_B,y_H_B,color='dimgray',marker ='p',markerfacecolor='dimgray',linestyle='',label='path')\n",
    "ax.plot(x_H_C,y_H_C,color='dimgray',marker ='p',markerfacecolor='dimgray')\n",
    "ax.plot(x_H_D,y_H_D,color='dimgray',marker ='p',markerfacecolor='dimgray')\n",
    "ax.plot(x_H_M,y_H_M,color='dimgray',marker ='p',markerfacecolor='dimgray')\n",
    "ax.add_patch(Earth)\n",
    "ax.add_patch(Mars)\n",
    "ax.set_xlabel('X [AU]',fontsize=12)\n",
    "ax.set_ylabel('Y [AU]',fontsize=12)\n",
    "ax.legend(loc='best',fontsize=12)\n",
    "anim = animation.FuncAnimation(fig, animate,init_func=init,frames=260,interval=40,blit=True)\n",
    "plt.axis('scaled') #Scale the plot in real time\n",
    "# plt.savefig('Hohmann.pdf')\n",
    "anim.save('Hohmann.mp4', writer=writer)\n",
    "plt.show()\n"
   ]
  }
 ],
 "metadata": {
  "kernelspec": {
   "display_name": "Python 3",
   "language": "python",
   "name": "python3"
  },
  "language_info": {
   "codemirror_mode": {
    "name": "ipython",
    "version": 3
   },
   "file_extension": ".py",
   "mimetype": "text/x-python",
   "name": "python",
   "nbconvert_exporter": "python",
   "pygments_lexer": "ipython3",
   "version": "3.10.6"
  },
  "orig_nbformat": 4
 },
 "nbformat": 4,
 "nbformat_minor": 2
}
